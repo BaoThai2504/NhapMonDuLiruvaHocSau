{
 "cells": [
  {
   "cell_type": "code",
   "execution_count": 2,
   "metadata": {},
   "outputs": [],
   "source": [
    "import pandas as pd\n",
    "import numpy as np\n",
    "import seaborn as sns\n",
    "import matplotlib.pyplot as plt"
   ]
  },
  {
   "cell_type": "code",
   "execution_count": 11,
   "metadata": {},
   "outputs": [
    {
     "ename": "SyntaxError",
     "evalue": "(unicode error) 'unicodeescape' codec can't decode bytes in position 6-7: malformed \\N character escape (2812137683.py, line 4)",
     "output_type": "error",
     "traceback": [
      "\u001b[1;36m  Cell \u001b[1;32mIn[11], line 4\u001b[1;36m\u001b[0m\n\u001b[1;33m    filename = \"E:\\hk3\\Nhập môn phân tích dữ liệu và học sâu\\lab4-ThaiQuocBao-207ct09955\\titanic_disaster.csv\"\u001b[0m\n\u001b[1;37m                                                                                                              ^\u001b[0m\n\u001b[1;31mSyntaxError\u001b[0m\u001b[1;31m:\u001b[0m (unicode error) 'unicodeescape' codec can't decode bytes in position 6-7: malformed \\N character escape\n"
     ]
    }
   ],
   "source": [
    "# Vấn đề 1\n",
    "def load_csv(filename):\n",
    "  return pd.read_csv(filename)\n",
    "  filename = \"E:\\hk3\\Nhập môn phân tích dữ liệu và học sâu\\lab4-ThaiQuocBao-207ct09955\\titanic_disaster.csv\"\n",
    "  tidisaster = load_csv(filename)\n",
    "  print(tidisaster.head(10))\n"
   ]
  },
  {
   "cell_type": "code",
   "execution_count": null,
   "metadata": {},
   "outputs": [],
   "source": []
  }
 ],
 "metadata": {
  "kernelspec": {
   "display_name": "Python 3",
   "language": "python",
   "name": "python3"
  },
  "language_info": {
   "codemirror_mode": {
    "name": "ipython",
    "version": 3
   },
   "file_extension": ".py",
   "mimetype": "text/x-python",
   "name": "python",
   "nbconvert_exporter": "python",
   "pygments_lexer": "ipython3",
   "version": "3.11.9"
  }
 },
 "nbformat": 4,
 "nbformat_minor": 2
}
